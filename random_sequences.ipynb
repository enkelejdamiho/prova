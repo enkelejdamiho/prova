{
 "cells": [
  {
   "cell_type": "code",
   "execution_count": 111,
   "metadata": {
    "collapsed": false
   },
   "outputs": [],
   "source": [
    "import time\n",
    "import itertools\n",
    "import string\n",
    "import random\n",
    "import Levenshtein\n",
    "import networkx as nx\n",
    "from scipy.sparse import coo_matrix\n",
    "from sys import argv\n",
    "from math import factorial\n",
    "random.seed(1)\n",
    "start_time = time.clock()\n",
    "\n",
    "minimum_aa = 4\n",
    "maximum_aa = 20\n",
    "min_seqs = 0\n",
    "max_seqs = 50000"
   ]
  },
  {
   "cell_type": "code",
   "execution_count": 109,
   "metadata": {
    "collapsed": false
   },
   "outputs": [
    {
     "name": "stdout",
     "output_type": "stream",
     "text": [
      "Number of iterations will be 12497500\n"
     ]
    }
   ],
   "source": [
    "print 'Number of iterations will be %d'%(factorial(max_seqs)/2/(factorial(max_seqs-2)))"
   ]
  },
  {
   "cell_type": "code",
   "execution_count": 22,
   "metadata": {
    "collapsed": false
   },
   "outputs": [],
   "source": [
    "import findspark\n",
    "findspark.init()\n",
    "from pyspark import SparkContext\n",
    "\n",
    "sc = SparkContext(master='local[*]')"
   ]
  },
  {
   "cell_type": "code",
   "execution_count": 112,
   "metadata": {
    "collapsed": true
   },
   "outputs": [],
   "source": [
    "string_list = []\n",
    "\n",
    "for i in range(min_seqs, max_seqs):\n",
    "    random_integer = random.randrange(minimum_aa, maximum_aa)\n",
    "    s = ''.join(random.choice('ACDEFGHIKLMNPQRSTVWY') for _ in range(random_integer))\n",
    "    string_list.append(s)\n",
    "\n",
    "d = {}\n",
    "\n",
    "for i, s in enumerate(string_list):\n",
    "    d[s] = i"
   ]
  },
  {
   "cell_type": "code",
   "execution_count": 113,
   "metadata": {
    "collapsed": false
   },
   "outputs": [],
   "source": [
    "strings_rdd = sc.parallelize(string_list)"
   ]
  },
  {
   "cell_type": "code",
   "execution_count": 114,
   "metadata": {
    "collapsed": true
   },
   "outputs": [],
   "source": [
    "strings_b = sc.broadcast(string_list)\n",
    "d_b = sc.broadcast(d)"
   ]
  },
  {
   "cell_type": "code",
   "execution_count": 118,
   "metadata": {
    "collapsed": true
   },
   "outputs": [],
   "source": [
    "def generate_matrix_elements(iterator):\n",
    "    strings = strings_b.value\n",
    "    string_map = d_b.value\n",
    "    \n",
    "    for my_string in iterator: \n",
    "        for string in strings:\n",
    "            ld = Levenshtein.distance(my_string, string)\n",
    "            if ld < 2 and ld > 0: \n",
    "                row = string_map[my_string]\n",
    "                col = string_map[string]\n",
    "                yield (row, col, float(ld))"
   ]
  },
  {
   "cell_type": "code",
   "execution_count": 119,
   "metadata": {
    "collapsed": false
   },
   "outputs": [],
   "source": [
    "mat = strings_rdd.mapPartitions(generate_matrix_elements)"
   ]
  },
  {
   "cell_type": "code",
   "execution_count": 117,
   "metadata": {
    "collapsed": false
   },
   "outputs": [
    {
     "name": "stdout",
     "output_type": "stream",
     "text": [
      "CPU times: user 15.1 ms, sys: 7.06 ms, total: 22.1 ms\n",
      "Wall time: 5min 22s\n"
     ]
    },
    {
     "data": {
      "text/plain": [
       "5436"
      ]
     },
     "execution_count": 117,
     "metadata": {},
     "output_type": "execute_result"
    }
   ],
   "source": [
    "%time mat.count()"
   ]
  },
  {
   "cell_type": "code",
   "execution_count": 73,
   "metadata": {
    "collapsed": false
   },
   "outputs": [],
   "source": [
    "def get_matrix_elements(string_list):\n",
    "    levenshtein_list = []\n",
    "    rows = []\n",
    "    cols = []\n",
    "\n",
    "    for a, b in itertools.combinations(string_list, 2):\n",
    "        levenshtein_distance = Levenshtein.distance(a, b)\n",
    "        if levenshtein_distance < 2:\n",
    "            levenshtein_list.append(1)\n",
    "            rows.append(d[a])\n",
    "            cols.append(d[b])\n",
    "    return levenshtein_list, rows, cols"
   ]
  },
  {
   "cell_type": "code",
   "execution_count": 74,
   "metadata": {
    "collapsed": false
   },
   "outputs": [],
   "source": [
    "%lprun -f get_matrix_elements lev, rows, cols = get_matrix_elements(string_list)"
   ]
  },
  {
   "cell_type": "code",
   "execution_count": 92,
   "metadata": {
    "collapsed": false
   },
   "outputs": [
    {
     "name": "stdout",
     "output_type": "stream",
     "text": [
      "CPU times: user 5.99 s, sys: 244 ms, total: 6.24 s\n",
      "Wall time: 6.05 s\n"
     ]
    }
   ],
   "source": [
    "%time lev, rows, cols = get_matrix_elements(string_list)"
   ]
  },
  {
   "cell_type": "code",
   "execution_count": null,
   "metadata": {
    "collapsed": true
   },
   "outputs": [],
   "source": [
    "nx.write_gml(g, \"g_500K.gml\")\n",
    "\n",
    "\n",
    "text_file = open(\"output_500K.txt\", \"w\")\n",
    "text_file.write(' '.join(('Number of generated sequences:', str(len(string_list)), 'sequences'))) \n",
    "text_file.write(' '.join(('\\nTime calculating the Levenshtein distance:', str(dist_time), 'seconds')))\n",
    "text_file.write(' '.join(('\\nTime calculating the graph:', str(graph_time), 'seconds')))\n",
    "text_file.write(' '.join(('\\nTotal pipeline time:', str(total_time), 'seconds')))\n",
    "text_file.write('\\nSuccessful finish')\n",
    "text_file.close()"
   ]
  }
 ],
 "metadata": {
  "kernelspec": {
   "display_name": "Python 2",
   "language": "python",
   "name": "python2"
  },
  "language_info": {
   "codemirror_mode": {
    "name": "ipython",
    "version": 2
   },
   "file_extension": ".py",
   "mimetype": "text/x-python",
   "name": "python",
   "nbconvert_exporter": "python",
   "pygments_lexer": "ipython2",
   "version": "2.7.10"
  }
 },
 "nbformat": 4,
 "nbformat_minor": 0
}
